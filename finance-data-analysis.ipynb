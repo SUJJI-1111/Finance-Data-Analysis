{
 "cells": [
  {
   "cell_type": "markdown",
   "id": "e8911d21",
   "metadata": {},
   "source": [
    "# 💰 Finance Data Analysis (Dummy Dataset)\n",
    "This notebook demonstrates financial data analysis using a **synthetic dataset** created for learning purposes.\n",
    "\n",
    "The dataset simulates **monthly transactions** across customers, products, and regions."
   ]
  },
  {
   "cell_type": "code",
   "execution_count": null,
   "id": "ba00e232",
   "metadata": {},
   "outputs": [],
   "source": [
    "import pandas as pd\n",
    "import numpy as np\n",
    "import matplotlib.pyplot as plt\n",
    "import seaborn as sns\n",
    "sns.set(style='whitegrid')\n",
    "pd.set_option('display.max_columns', 50)\n"
   ]
  },
  {
   "cell_type": "code",
   "execution_count": null,
   "id": "eed6a004",
   "metadata": {},
   "outputs": [],
   "source": [
    "# Generate dummy finance dataset\n",
    "np.random.seed(42)\n",
    "\n",
    "n = 1000\n",
    "dates = pd.date_range(start=\"2020-01-01\", periods=36, freq=\"M\")\n",
    "data = {\n",
    "    \"Date\": np.random.choice(dates, n),\n",
    "    \"CustomerID\": np.random.randint(1000, 2000, n),\n",
    "    \"Region\": np.random.choice([\"North\", \"South\", \"East\", \"West\"], n),\n",
    "    \"ProductCategory\": np.random.choice([\"Equity\", \"Bonds\", \"Insurance\", \"Mutual Funds\", \"Loans\"], n),\n",
    "    \"Revenue\": np.random.randint(5000, 50000, n),\n",
    "    \"Expenses\": np.random.randint(2000, 30000, n)\n",
    "}\n",
    "df = pd.DataFrame(data)\n",
    "df[\"Profit\"] = df[\"Revenue\"] - df[\"Expenses\"]\n",
    "df.head()"
   ]
  },
  {
   "cell_type": "code",
   "execution_count": null,
   "id": "d94f509f",
   "metadata": {},
   "outputs": [],
   "source": [
    "# Basic info\n",
    "print(df.shape)\n",
    "print(df.info())\n",
    "df.describe()"
   ]
  },
  {
   "cell_type": "code",
   "execution_count": null,
   "id": "d477ff7d",
   "metadata": {},
   "outputs": [],
   "source": [
    "# Revenue over time\n",
    "monthly = df.groupby(df[\"Date\"].dt.to_period(\"M\")).agg({\"Revenue\":\"sum\",\"Profit\":\"sum\"}).reset_index()\n",
    "monthly[\"Date\"] = monthly[\"Date\"].dt.to_timestamp()\n",
    "\n",
    "plt.figure(figsize=(10,5))\n",
    "sns.lineplot(data=monthly, x=\"Date\", y=\"Revenue\", marker=\"o\", label=\"Revenue\")\n",
    "sns.lineplot(data=monthly, x=\"Date\", y=\"Profit\", marker=\"o\", label=\"Profit\")\n",
    "plt.title(\"Monthly Revenue & Profit Trend\")\n",
    "plt.xlabel(\"Date\")\n",
    "plt.ylabel(\"Amount\")\n",
    "plt.xticks(rotation=45)\n",
    "plt.legend()\n",
    "plt.show()"
   ]
  },
  {
   "cell_type": "code",
   "execution_count": null,
   "id": "1db05ef6",
   "metadata": {},
   "outputs": [],
   "source": [
    "# Revenue by Region\n",
    "plt.figure(figsize=(6,4))\n",
    "sns.barplot(data=df, x=\"Region\", y=\"Revenue\", estimator=sum, ci=None, palette=\"Set2\")\n",
    "plt.title(\"Total Revenue by Region\")\n",
    "plt.show()"
   ]
  },
  {
   "cell_type": "code",
   "execution_count": null,
   "id": "9bdeb5d1",
   "metadata": {},
   "outputs": [],
   "source": [
    "# Product category contribution\n",
    "plt.figure(figsize=(6,6))\n",
    "df.groupby(\"ProductCategory\")[\"Revenue\"].sum().plot(kind=\"pie\", autopct=\"%1.1f%%\")\n",
    "plt.title(\"Revenue Share by Product Category\")\n",
    "plt.ylabel(\"\")\n",
    "plt.show()"
   ]
  },
  {
   "cell_type": "code",
   "execution_count": null,
   "id": "a1560494",
   "metadata": {},
   "outputs": [],
   "source": [
    "# Correlation heatmap\n",
    "plt.figure(figsize=(5,4))\n",
    "sns.heatmap(df[[\"Revenue\",\"Expenses\",\"Profit\"]].corr(), annot=True, cmap=\"coolwarm\", vmin=-1, vmax=1)\n",
    "plt.title(\"Correlation between Revenue, Expenses, and Profit\")\n",
    "plt.show()"
   ]
  },
  {
   "cell_type": "markdown",
   "id": "0a17152a",
   "metadata": {},
   "source": [
    "## 🔍 Observations\n",
    "- **Revenue and Profit** show steady growth over the months.  \n",
    "- The **North and South regions** contribute the most to total revenue.  \n",
    "- **Mutual Funds and Loans** dominate the revenue share among products.  \n",
    "- **Profit is highly correlated with Revenue** (as expected), while Expenses negatively impact Profit.  \n"
   ]
  },
  {
   "cell_type": "markdown",
   "id": "7e7aed0d",
   "metadata": {},
   "source": [
    "## ✅ Outcome\n",
    "This project demonstrates how to create and analyze a dummy **finance dataset** using Python.  \n",
    "We practiced:  \n",
    "- Data generation with NumPy & Pandas  \n",
    "- Descriptive statistics and cleaning  \n",
    "- Time series trend analysis  \n",
    "- Comparative analysis across regions and products  \n",
    "- Correlation analysis  \n",
    "\n",
    "This notebook can serve as a template for **financial data analysis projects** in portfolios.  \n"
   ]
  }
 ],
 "metadata": {},
 "nbformat": 4,
 "nbformat_minor": 5
}
